{
 "cells": [
  {
   "cell_type": "code",
   "execution_count": 25,
   "metadata": {},
   "outputs": [],
   "source": [
    "%matplotlib inline\n",
    "import matplotlib.pyplot as plt\n",
    "import csv\n",
    "from textblob import TextBlob\n",
    "import pandas\n",
    "import sklearn\n",
    "import random\n",
    "import cPickle\n",
    "import pylab as pl\n",
    "import numpy as np\n",
    "from sklearn.utils import shuffle\n",
    "import textblob\n",
    "from sklearn.feature_extraction.text import CountVectorizer, TfidfTransformer\n",
    "from sklearn.naive_bayes import MultinomialNB\n",
    "from sklearn.svm import SVC, LinearSVC\n",
    "from sklearn.metrics import classification_report, f1_score, accuracy_score, confusion_matrix, roc_curve, auc\n",
    "from sklearn.pipeline import Pipeline\n",
    "from sklearn.grid_search import GridSearchCV\n",
    "from sklearn.cross_validation import StratifiedKFold, cross_val_score, train_test_split \n",
    "from sklearn.tree import DecisionTreeClassifier \n",
    "from sklearn.learning_curve import learning_curve"
   ]
  },
  {
   "cell_type": "code",
   "execution_count": 26,
   "metadata": {
    "collapsed": true
   },
   "outputs": [],
   "source": [
    "def clean(txt):\n",
    "    not_list = ['...', 'you', 'your', 'his', 'her', 'will', \"didn't\", \"i'll\"]\n",
    "    replace_list = [\".\", \"'\", '\"', \"!\", \"?\", \"#\", \"\\r\\n\", \"-\", \"@\", \"1\", \"2\", \"3\", \"4\", \"5\", \"6\", \"7\", \"8\", \"9\", \"0\", \"+\", \"$\"]\n",
    "    cleaned = []\n",
    "    for token in str(txt).split(' '):\n",
    "        flag = False\n",
    "        for y in not_list:\n",
    "            if y in token.lower():\n",
    "                flag = True\n",
    "                break\n",
    "        if flag: continue\n",
    "        for y in replace_list:\n",
    "            token = token.replace(y, \"\")\n",
    "        if len(token) > 3:\n",
    "            token = token.strip().lower();\n",
    "            try:\n",
    "                #word = textblob.TextBlob(token).words[0]\n",
    "                cleaned.append(token)\n",
    "            except:\n",
    "                continue\n",
    "    return ' '.join(cleaned).decode(\"ascii\", \"ignore\")"
   ]
  },
  {
   "cell_type": "code",
   "execution_count": 27,
   "metadata": {
    "collapsed": true
   },
   "outputs": [],
   "source": [
    "def clean_pos(txt): \n",
    "    pos = TextBlob(txt).tags\n",
    "    cleaned = [x[0] for x in pos if x[1] != 'IN' and x[1] != 'PRP' and x[1] != 'WP' and x[1] != 'FW']\n",
    "    return ' '.join(cleaned)"
   ]
  },
  {
   "cell_type": "code",
   "execution_count": 28,
   "metadata": {
    "collapsed": true
   },
   "outputs": [],
   "source": [
    "safe_stuff = []\n",
    "no_safe_stuff = []"
   ]
  },
  {
   "cell_type": "code",
   "execution_count": 29,
   "metadata": {},
   "outputs": [
    {
     "name": "stdout",
     "output_type": "stream",
     "text": [
      "22155\n",
      "                                                  review     label\n",
      "0                                                awesome      safe\n",
      "1      loved loved loved good quite whole pounds chic...      safe\n",
      "2      wonderful slightly sweet full flavor very easy...      safe\n",
      "3      good personally stuck with fried onions instea...      safe\n",
      "4      love these pancakes thick hardy they taste gre...      safe\n",
      "5                                                             safe\n",
      "6      best chicken recipes ever husband loved follow...      safe\n",
      "7      these cookies were simply awesome dont have sw...      safe\n",
      "8      great flavor only left thats used only thing t...      safe\n",
      "9      family loves these cookies although have made ...      safe\n",
      "10     ilove recipe although family doesnt quite shar...      safe\n",
      "11     have made need cutlets need pounding that chic...      safe\n",
      "12                                                            safe\n",
      "13     very yummy used raspberries instead blueberrie...      safe\n",
      "14     make soft chocolate chip cookie also made batc...      safe\n",
      "15                                flavor sour came runny      safe\n",
      "16     thought excellent have onion wouldve sauteed f...      safe\n",
      "17     been recipe since finding recipes only changes...      safe\n",
      "18     just took recipe labor party everyone loved ke...      safe\n",
      "19     awesome nice twist traditional casserole espec...      safe\n",
      "20     transplantded southen californian have that af...      safe\n",
      "21     easy good foil down lightly greased make easy ...      safe\n",
      "22     used half sour cream called half cream mushroo...      safe\n",
      "23     easily best guacamole recipe found gets kudos ...      safe\n",
      "24     loved recipe made thanksgiving husband been be...      safe\n",
      "25     dish amazing thought green bean casserole dish...      safe\n",
      "26                 family loved make changes thanks good      safe\n",
      "27                                             very good      safe\n",
      "28     great guacamole tried guacamole recipes from w...      safe\n",
      "29     recipe fast become family favorite anytime mak...      safe\n",
      "...                                                  ...       ...\n",
      "11532  enjoyed huge dill weed very much added extra f...  not_safe\n",
      "11533  super yummy fast quite pretty added roma tomat...  not_safe\n",
      "11534  these were pretty good added sauted broccoli s...  not_safe\n",
      "11535  very good chicken salad make changes added lem...  not_safe\n",
      "11536  good chicken salad doesnt hold like chicken sa...  not_safe\n",
      "11537  made salad morning (grilled chicken breasts la...  not_safe\n",
      "11538  delicious used nonfat instead sour cream lower...  not_safe\n",
      "11539              family loved would down onions though  not_safe\n",
      "11540  very good recipe used leftover chicken that be...  not_safe\n",
      "11541  salad good thought dill little strong going ma...  not_safe\n",
      "11542  feel like flavors mesh well even after overnig...  not_safe\n",
      "11543                               very good back onion  not_safe\n",
      "11544  took some getting used delicious unique chicke...  not_safe\n",
      "11545  like most people altered recipe used garlic fe...  not_safe\n",
      "11546  really good recipe made bridal shower served c...  not_safe\n",
      "11547  recipe tasty prepped ahead time took camping k...  not_safe\n",
      "11548  although would have preferred without bell pep...  not_safe\n",
      "11549       great fast simple delicious favorites thanks  not_safe\n",
      "11550  thank great leftover roast chicken feta cheese...  not_safe\n",
      "11551                                             flavor  not_safe\n",
      "11552    made recipe found little flavor wont make again  not_safe\n",
      "11553                                                     not_safe\n",
      "11554  good recipe base went greek route suggested us...  not_safe\n",
      "11555  delicious watch onions thought onions were strong  not_safe\n",
      "11556  expecting more flavor from feta probably wont ...  not_safe\n",
      "11557  while okay quite heavy taste fetamayonnaise co...  not_safe\n",
      "11558  pretty tasty liked feta with chicken oniony pe...  not_safe\n",
      "11559  thought just wasnt that thrilled with pepper o...  not_safe\n",
      "11560  dont know what wrong found salad kind watery m...  not_safe\n",
      "11561  dont know think have messed recipe because was...  not_safe\n",
      "\n",
      "[22155 rows x 2 columns]\n"
     ]
    }
   ],
   "source": [
    "safedf = pandas.DataFrame()\n",
    "no_safedf = pandas.DataFrame()\n",
    "messages = pandas.read_csv('./safe_recipe.csv', sep=',', quoting=csv.QUOTE_NONE,\n",
    "                           names=[\"date\", \"rating\", \"review\"])\n",
    "safedf['review'] = messages[messages.columns[2:4]] \n",
    "safedf['label'] = \"safe\"\n",
    "safedf = shuffle(safedf).reset_index(drop=True)\n",
    "\n",
    "messages = pandas.read_csv('./no_safe_recipe.csv', sep=',', quoting=csv.QUOTE_NONE,\n",
    "                           names=[\"date\", \"rating\", \"review\"])\n",
    "no_safedf['review'] = messages[messages.columns[2:4]] \n",
    "no_safedf['label'] = \"not_safe\"\n",
    "\n",
    "dataset = safedf.loc[0:10000,:]\n",
    "dataset = dataset.append(no_safedf.loc[0:10000,:])\n",
    "print len(dataset)\n",
    "dataset['review'] = dataset['review'].map(clean)\n",
    "print dataset\n"
   ]
  },
  {
   "cell_type": "code",
   "execution_count": 30,
   "metadata": {},
   "outputs": [
    {
     "name": "stdout",
     "output_type": "stream",
     "text": [
      "                                              review label\n",
      "0                                            awesome  safe\n",
      "1  loved loved loved good quite whole pounds chic...  safe\n",
      "2  wonderful slightly sweet full flavor very easy...  safe\n",
      "3  good personally stuck fried onions instead rit...  safe\n",
      "4  these pancakes thick hardy taste great very sa...  safe\n"
     ]
    }
   ],
   "source": [
    "dataset.replace('', np.nan, inplace=True)\n",
    "dataset.dropna(subset=['review'], inplace=True)\n",
    "dataset['review'] = dataset['review'].map(clean_pos)\n",
    "print dataset.head()\n"
   ]
  },
  {
   "cell_type": "code",
   "execution_count": 31,
   "metadata": {},
   "outputs": [
    {
     "data": {
      "text/html": [
       "<div>\n",
       "<style>\n",
       "    .dataframe thead tr:only-child th {\n",
       "        text-align: right;\n",
       "    }\n",
       "\n",
       "    .dataframe thead th {\n",
       "        text-align: left;\n",
       "    }\n",
       "\n",
       "    .dataframe tbody tr th {\n",
       "        vertical-align: top;\n",
       "    }\n",
       "</style>\n",
       "<table border=\"1\" class=\"dataframe\">\n",
       "  <thead>\n",
       "    <tr>\n",
       "      <th></th>\n",
       "      <th colspan=\"4\" halign=\"left\">review</th>\n",
       "    </tr>\n",
       "    <tr>\n",
       "      <th></th>\n",
       "      <th>count</th>\n",
       "      <th>unique</th>\n",
       "      <th>top</th>\n",
       "      <th>freq</th>\n",
       "    </tr>\n",
       "    <tr>\n",
       "      <th>label</th>\n",
       "      <th></th>\n",
       "      <th></th>\n",
       "      <th></th>\n",
       "      <th></th>\n",
       "    </tr>\n",
       "  </thead>\n",
       "  <tbody>\n",
       "    <tr>\n",
       "      <th>not_safe</th>\n",
       "      <td>11023</td>\n",
       "      <td>10118</td>\n",
       "      <td>delicious</td>\n",
       "      <td>16</td>\n",
       "    </tr>\n",
       "    <tr>\n",
       "      <th>safe</th>\n",
       "      <td>10107</td>\n",
       "      <td>9721</td>\n",
       "      <td>delicious</td>\n",
       "      <td>22</td>\n",
       "    </tr>\n",
       "  </tbody>\n",
       "</table>\n",
       "</div>"
      ],
      "text/plain": [
       "         review                       \n",
       "          count unique        top freq\n",
       "label                                 \n",
       "not_safe  11023  10118  delicious   16\n",
       "safe      10107   9721  delicious   22"
      ]
     },
     "execution_count": 31,
     "metadata": {},
     "output_type": "execute_result"
    }
   ],
   "source": [
    "dataset.groupby('label').describe()"
   ]
  },
  {
   "cell_type": "code",
   "execution_count": 32,
   "metadata": {},
   "outputs": [
    {
     "name": "stdout",
     "output_type": "stream",
     "text": [
      "                                              review label  length\n",
      "0                                            awesome  safe       7\n",
      "1  loved loved loved good quite whole pounds chic...  safe      96\n",
      "2  wonderful slightly sweet full flavor very easy...  safe      51\n",
      "3  good personally stuck fried onions instead rit...  safe     116\n",
      "4  these pancakes thick hardy taste great very sa...  safe     112\n"
     ]
    }
   ],
   "source": [
    "dataset['length'] = dataset['review'].map(lambda text: len(text))\n",
    "print dataset.head()"
   ]
  },
  {
   "cell_type": "code",
   "execution_count": 33,
   "metadata": {},
   "outputs": [
    {
     "data": {
      "text/plain": [
       "<matplotlib.axes._subplots.AxesSubplot at 0x117567f10>"
      ]
     },
     "execution_count": 33,
     "metadata": {},
     "output_type": "execute_result"
    },
    {
     "data": {
      "image/png": "[encoded data removed]",
      "text/plain": [
       "<matplotlib.figure.Figure at 0x1186a3550>"
      ]
     },
     "metadata": {},
     "output_type": "display_data"
    }
   ],
   "source": [
    "dataset.length.plot(bins=20, kind='hist', figsize=(16, 8))"
   ]
  },
  {
   "cell_type": "code",
   "execution_count": 34,
   "metadata": {},
   "outputs": [
    {
     "data": {
      "text/plain": [
       "count    21130.000000\n",
       "mean        87.077236\n",
       "std         36.031114\n",
       "min          0.000000\n",
       "25%         60.000000\n",
       "50%         98.000000\n",
       "75%        115.000000\n",
       "max        168.000000\n",
       "Name: length, dtype: float64"
      ]
     },
     "execution_count": 34,
     "metadata": {},
     "output_type": "execute_result"
    }
   ],
   "source": [
    "dataset.length.describe()"
   ]
  },
  {
   "cell_type": "code",
   "execution_count": 35,
   "metadata": {},
   "outputs": [
    {
     "data": {
      "text/plain": [
       "array([<matplotlib.axes._subplots.AxesSubplot object at 0x110f0ac50>,\n",
       "       <matplotlib.axes._subplots.AxesSubplot object at 0x11860ed10>], dtype=object)"
      ]
     },
     "execution_count": 35,
     "metadata": {},
     "output_type": "execute_result"
    },
    {
     "data": {
      "image/png": "[encoded data removed]",
      "text/plain": [
       "<matplotlib.figure.Figure at 0x1173da450>"
      ]
     },
     "metadata": {},
     "output_type": "display_data"
    }
   ],
   "source": [
    "dataset.hist(column='length', by='label', bins=50, figsize=(16, 8))"
   ]
  },
  {
   "cell_type": "code",
   "execution_count": 36,
   "metadata": {
    "collapsed": true
   },
   "outputs": [],
   "source": [
    "def split_into_lemmas(message):\n",
    "    words = TextBlob(message).words\n",
    "    # for each word, take its \"base form\" = lemma \n",
    "    return [word.lemma for word in words]"
   ]
  },
  {
   "cell_type": "code",
   "execution_count": 37,
   "metadata": {
    "collapsed": true
   },
   "outputs": [],
   "source": [
    "# not appropriate data, need training and test set\n",
    "dataset = shuffle(dataset)"
   ]
  },
  {
   "cell_type": "code",
   "execution_count": 38,
   "metadata": {},
   "outputs": [
    {
     "name": "stdout",
     "output_type": "stream",
     "text": [
      "16904 4226 21130\n"
     ]
    }
   ],
   "source": [
    "msg_train, msg_test, label_train, label_test = \\\n",
    "    train_test_split(dataset['review'], dataset['label'], test_size=0.2)\n",
    "\n",
    "print len(msg_train), len(msg_test), len(msg_train) + len(msg_test)"
   ]
  },
  {
   "cell_type": "code",
   "execution_count": 39,
   "metadata": {
    "collapsed": true
   },
   "outputs": [],
   "source": [
    "pipeline = Pipeline([\n",
    "    ('bow', CountVectorizer(analyzer=split_into_lemmas)),  # strings to token integer counts\n",
    "    ('tfidf', TfidfTransformer()),  # integer counts to weighted TF-IDF scores\n",
    "    ('classifier', MultinomialNB()),  # train on TF-IDF vectors w/ Naive Bayes classifier\n",
    "])"
   ]
  },
  {
   "cell_type": "code",
   "execution_count": 40,
   "metadata": {},
   "outputs": [
    {
     "name": "stdout",
     "output_type": "stream",
     "text": [
      "[ 0.8321513   0.82683215  0.81360947  0.83727811  0.84260355  0.83491124\n",
      "  0.83076923  0.83846154  0.81775148  0.82544379]\n"
     ]
    }
   ],
   "source": [
    "# Cross-validation is a technique for evaluating ML models by training several \n",
    "# ML models on subsets of the available input data and\n",
    "# evaluating them on the complementary subset of the data\n",
    "scores = cross_val_score(pipeline,  # steps to convert raw messages into models\n",
    "                         msg_train,  # training data\n",
    "                         label_train,  # training labels\n",
    "                         cv=10,  # split data randomly into 10 parts: 9 for training, 1 for scoring\n",
    "                         scoring='accuracy',  # which scoring metric?\n",
    "                         n_jobs=-1,  # -1 = use all cores = faster\n",
    "                         )\n",
    "print scores"
   ]
  },
  {
   "cell_type": "code",
   "execution_count": 41,
   "metadata": {},
   "outputs": [
    {
     "name": "stdout",
     "output_type": "stream",
     "text": [
      "0.82998118539 0.00873054797462\n"
     ]
    }
   ],
   "source": [
    "print scores.mean(), scores.std()"
   ]
  },
  {
   "cell_type": "code",
   "execution_count": 42,
   "metadata": {},
   "outputs": [
    {
     "name": "stdout",
     "output_type": "stream",
     "text": [
      "CPU times: user 10.3 s, sys: 754 ms, total: 11 s\n",
      "Wall time: 1min 7s\n"
     ]
    }
   ],
   "source": [
    "params = {\n",
    "    'tfidf__use_idf': (True, False),\n",
    "    'bow__analyzer': (split_into_lemmas,),\n",
    "}\n",
    "\n",
    "grid = GridSearchCV(\n",
    "    pipeline,  # pipeline from above\n",
    "    params,  # parameters to tune via cross validation\n",
    "    refit=True,  # fit using all available data at the end, on the best found param combination\n",
    "    n_jobs=-1,  # number of cores to use for parallelization; -1 for \"all cores\"\n",
    "    scoring='accuracy',  # what score are we optimizing?\n",
    "    cv=StratifiedKFold(label_train, n_folds=5),  # what type of cross validation to use\n",
    ")\n",
    "%time nb_detector = grid.fit(msg_train, label_train)"
   ]
  },
  {
   "cell_type": "code",
   "execution_count": 43,
   "metadata": {},
   "outputs": [
    {
     "name": "stdout",
     "output_type": "stream",
     "text": [
      "[2994 7024 3393 ..., 4392 4364 5902]\n",
      "delicious good very used loved these great make made recipe\n",
      "fresno stella halibut hallandaise halleluyur steer hallway steel steaming hambaconcheese\n"
     ]
    }
   ],
   "source": [
    "def print_top10(vectorizer, clf):\n",
    "    \"\"\"Prints features with the highest coefficient values, per class\"\"\"\n",
    "    feature_names = vectorizer.get_feature_names()\n",
    "    #for i, class_label in enumerate(class_labels):\n",
    "    print np.argsort(clf.coef_[0])\n",
    "    top10 = np.argsort(clf.coef_[0])[-10:]\n",
    "    bot10 = np.argsort(clf.coef_[0])[0:10]\n",
    "    print(\"%s\" % (\" \".join(feature_names[j] for j in top10)))\n",
    "    print(\"%s\" % (\" \".join(feature_names[j] for j in bot10)))\n",
    "\n",
    "\n",
    "#print nb_detector.grid_scores_\n",
    "best =nb_detector.best_estimator_\n",
    "print_top10(best.named_steps['bow'], best.named_steps['classifier'])"
   ]
  },
  {
   "cell_type": "code",
   "execution_count": 44,
   "metadata": {
    "collapsed": true
   },
   "outputs": [],
   "source": [
    "predictions = nb_detector.predict(msg_test)\n",
    "prob = nb_detector.predict_proba(msg_test)"
   ]
  },
  {
   "cell_type": "code",
   "execution_count": 45,
   "metadata": {},
   "outputs": [
    {
     "name": "stdout",
     "output_type": "stream",
     "text": [
      "['not_safe' 'safe' 'safe' ..., 'safe' 'not_safe' 'safe']\n",
      "[[ 0.96728636  0.03271364]\n",
      " [ 0.10854124  0.89145876]\n",
      " [ 0.05012186  0.94987814]\n",
      " ..., \n",
      " [ 0.09431567  0.90568433]\n",
      " [ 0.65951851  0.34048149]\n",
      " [ 0.47383628  0.52616372]]\n"
     ]
    },
    {
     "data": {
      "image/png": "[encoded data removed]",
      "text/plain": [
       "<matplotlib.figure.Figure at 0x1185b4050>"
      ]
     },
     "metadata": {},
     "output_type": "display_data"
    }
   ],
   "source": [
    "print predictions\n",
    "print prob\n",
    "ytest = [1 if x == \"safe\" else 0 for x in label_test ]\n",
    "fpr, tpr, _ = roc_curve(ytest, prob[:,1])\n",
    "roc_auc = auc(fpr, tpr)\n",
    "\n",
    "plt.figure(figsize=(18,10))\n",
    "plt.title('Receiver Operating Characteristic')\n",
    "plt.plot(fpr, tpr, 'b', label = 'AUC = %0.2f' % roc_auc)\n",
    "plt.legend(loc = 'lower right')\n",
    "plt.plot([0, 1], [0, 1],'r--')\n",
    "plt.xlim([0, 1])\n",
    "plt.ylim([0, 1])\n",
    "\n",
    "plt.ylabel('True Positive Rate')\n",
    "plt.xlabel('False Positive Rate')\n",
    "plt.show()\n"
   ]
  },
  {
   "cell_type": "code",
   "execution_count": 46,
   "metadata": {},
   "outputs": [
    {
     "name": "stdout",
     "output_type": "stream",
     "text": [
      "[[1631  394]\n",
      " [ 323 1878]]\n"
     ]
    },
    {
     "data": {
      "image/png": "[encoded data removed]",
      "text/plain": [
       "<matplotlib.figure.Figure at 0x110ebf810>"
      ]
     },
     "metadata": {},
     "output_type": "display_data"
    }
   ],
   "source": [
    "labels=[\"safe\", \"not_safe\"]\n",
    "cm = confusion_matrix(label_test, predictions, labels)\n",
    "print cm\n",
    "fig = plt.figure(figsize=(18,10))\n",
    "ax = fig.add_subplot(111)\n",
    "cax = ax.matshow(cm)\n",
    "pl.title('Confusion matrix of the classifier')\n",
    "fig.colorbar(cax)\n",
    "ax.set_xticklabels([''] + labels)\n",
    "ax.set_yticklabels([''] + labels)\n",
    "pl.xlabel('Predicted')\n",
    "pl.ylabel('Expected')\n",
    "pl.show()"
   ]
  },
  {
   "cell_type": "code",
   "execution_count": 47,
   "metadata": {},
   "outputs": [
    {
     "name": "stdout",
     "output_type": "stream",
     "text": [
      "             precision    recall  f1-score   support\n",
      "\n",
      "   not_safe       0.83      0.85      0.84      2201\n",
      "       safe       0.83      0.81      0.82      2025\n",
      "\n",
      "avg / total       0.83      0.83      0.83      4226\n",
      "\n"
     ]
    }
   ],
   "source": [
    "print classification_report(label_test, predictions)"
   ]
  },
  {
   "cell_type": "code",
   "execution_count": 48,
   "metadata": {},
   "outputs": [
    {
     "name": "stdout",
     "output_type": "stream",
     "text": [
      "0.526648103812\n"
     ]
    }
   ],
   "source": [
    "predi = nb_detector.predict_proba([\"Hi mom, how are you?\", \"sdfsdf\", \"sdfdsf\"])[:,1]\n",
    "print sum(predi)/len(predi)"
   ]
  }
 ],
 "metadata": {
  "kernelspec": {
   "display_name": "Python 2",
   "language": "python",
   "name": "python2"
  },
  "language_info": {
   "codemirror_mode": {
    "name": "ipython",
    "version": 2
   },
   "file_extension": ".py",
   "mimetype": "text/x-python",
   "name": "python",
   "nbconvert_exporter": "python",
   "pygments_lexer": "ipython2",
   "version": "2.7.10"
  }
 },
 "nbformat": 4,
 "nbformat_minor": 2
}
