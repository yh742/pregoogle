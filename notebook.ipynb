{
 "cells": [
  {
   "cell_type": "code",
   "execution_count": 25,
   "metadata": {},
   "outputs": [],
   "source": [
    "%matplotlib inline\n",
    "import matplotlib.pyplot as plt\n",
    "import csv\n",
    "from textblob import TextBlob\n",
    "import pandas\n",
    "import sklearn\n",
    "import random\n",
    "import cPickle\n",
    "import pylab as pl\n",
    "import numpy as np\n",
    "from sklearn.utils import shuffle\n",
    "import textblob\n",
    "from sklearn.feature_extraction.text import CountVectorizer, TfidfTransformer\n",
    "from sklearn.naive_bayes import MultinomialNB\n",
    "from sklearn.svm import SVC, LinearSVC\n",
    "from sklearn.metrics import classification_report, f1_score, accuracy_score, confusion_matrix, roc_curve, auc\n",
    "from sklearn.pipeline import Pipeline\n",
    "from sklearn.grid_search import GridSearchCV\n",
    "from sklearn.cross_validation import StratifiedKFold, cross_val_score, train_test_split \n",
    "from sklearn.tree import DecisionTreeClassifier \n",
    "from sklearn.learning_curve import learning_curve"
   ]
  },
  {
   "cell_type": "code",
   "execution_count": 26,
   "metadata": {
    "collapsed": true
   },
   "outputs": [],
   "source": [
    "def clean(txt):\n",
    "    not_list = ['...', 'you', 'your', 'his', 'her', 'will', \"didn't\", \"i'll\"]\n",
    "    replace_list = [\".\", \"'\", '\"', \"!\", \"?\", \"#\", \"\\r\\n\", \"-\", \"@\", \"1\", \"2\", \"3\", \"4\", \"5\", \"6\", \"7\", \"8\", \"9\", \"0\", \"+\", \"$\"]\n",
    "    cleaned = []\n",
    "    for token in str(txt).split(' '):\n",
    "        flag = False\n",
    "        for y in not_list:\n",
    "            if y in token.lower():\n",
    "                flag = True\n",
    "                break\n",
    "        if flag: continue\n",
    "        for y in replace_list:\n",
    "            token = token.replace(y, \"\")\n",
    "        if len(token) > 3:\n",
    "            token = token.strip().lower();\n",
    "            try:\n",
    "                #word = textblob.TextBlob(token).words[0]\n",
    "                cleaned.append(token)\n",
    "            except:\n",
    "                continue\n",
    "    return ' '.join(cleaned).decode(\"ascii\", \"ignore\")"
   ]
  },
  {
   "cell_type": "code",
   "execution_count": 27,
   "metadata": {
    "collapsed": true
   },
   "outputs": [],
   "source": [
    "def clean_pos(txt): \n",
    "    pos = TextBlob(txt).tags\n",
    "    cleaned = [x[0] for x in pos if x[1] != 'IN' and x[1] != 'PRP' and x[1] != 'WP' and x[1] != 'FW']\n",
    "    return ' '.join(cleaned)"
   ]
  },
  {
   "cell_type": "code",
   "execution_count": 28,
   "metadata": {
    "collapsed": true
   },
   "outputs": [],
   "source": [
    "safe_stuff = []\n",
    "no_safe_stuff = []"
   ]
  },
  {
   "cell_type": "code",
   "execution_count": 49,
   "metadata": {},
   "outputs": [
    {
     "name": "stdout",
     "output_type": "stream",
     "text": [
      "20002\n",
      "                                                  review     label\n",
      "0      recipe awsome butterscotch pudding instead cup...      safe\n",
      "1      super recipe kids love right even better next ...      safe\n",
      "2      looking tasty lowerfat honey mustard chicken r...      safe\n",
      "3      great definitly need bigger make sure spagetti...      safe\n",
      "4      these really good whole disappeared last night...      safe\n",
      "5      love best guacamole have ever tastedi really l...      safe\n",
      "6                                                             safe\n",
      "7      perfect super bowl spread quick easy definite ...      safe\n",
      "8      search yahoo chocolate chip cookie recipe foun...      safe\n",
      "9      star recipe have alter recipe turned fantastic...      safe\n",
      "10     boyfriend said best stew ever some beef stew c...      safe\n",
      "11     most favorite dishes well cook usualy dont lik...      safe\n",
      "12     delicious recipe followed suggestions users di...      safe\n",
      "13     wouldnt have believed that sour cream would wi...      safe\n",
      "14     sooo good husband both loved themcant wait mak...      safe\n",
      "15     love also used less spices just tablespoon bro...      safe\n",
      "16     first time ever made beef stew used recipe tur...      safe\n",
      "17     leek soup never take without someone asking re...      safe\n",
      "18     kids liked them being generous with stars used...      safe\n",
      "19                   excellent added some crumbled bacon      safe\n",
      "20     halved recipe sorry everyone just loved boil s...      safe\n",
      "21                     good stuff (just ignore calories)      safe\n",
      "22                           awesome recipe making again      safe\n",
      "23     gosh good easy flavor could have been better b...      safe\n",
      "24     husband gave prefer with fresh basil added sau...      safe\n",
      "25     really moist delicious crumb topping makes eve...      safe\n",
      "26     hubby enjoyed these potatoes very much thanks ...      safe\n",
      "27     these cookies great year daughter whipped batc...      safe\n",
      "28     love recipe made times received many complimen...      safe\n",
      "29     family liked alot only thing that bread crumbs...      safe\n",
      "...                                                  ...       ...\n",
      "9971   tasty easy perfect goto hollandaise recipe lik...  not_safe\n",
      "9972   guaranteed perfection every time lemon juice l...  not_safe\n",
      "9973   made today crab benedict deliucios soooo easy ...  not_safe\n",
      "9974                      followed recipe easy delicious  not_safe\n",
      "9975                omitted dijon asparagus swiss crepes  not_safe\n",
      "9976                                                      not_safe\n",
      "9977                                                      not_safe\n",
      "9978   better than restaurants hollandaise sauce supe...  not_safe\n",
      "9979   never made hollandaise sauce before happy that...  not_safe\n",
      "9980    better than local restaurants stick butter trick  not_safe\n",
      "9981                            used bullet done seconds  not_safe\n",
      "9982   have been making hollandaise like years hint b...  not_safe\n",
      "9983   super easy while dijon pepper necessary (sauce...  not_safe\n",
      "9984   made nights with buttered steamed asparagus wh...  not_safe\n",
      "9985   left dijon sauce more traditional recipe easy ...  not_safe\n",
      "9986   have dijon mustard read reader made without wh...  not_safe\n",
      "9987   easy delicious served over asparagus family lo...  not_safe\n",
      "9988   first time ever made hollandaise sauce used dr...  not_safe\n",
      "9989                       make time quick easy reliable  not_safe\n",
      "9990   followed recipe exactly very pleased with resu...  not_safe\n",
      "9991   sooo good sooo easy left sauce pepper person s...  not_safe\n",
      "9992   have never made before easy delicious just add...  not_safe\n",
      "9993   soooo easy make have mustard avoid spices heal...  not_safe\n",
      "9994   really happy with never made hollandaise befor...  not_safe\n",
      "9995   have made hollandaise sauce years using betty ...  not_safe\n",
      "9996   lost shortcut hollandaise sauce recipe (which ...  not_safe\n",
      "9997   made written with exception dijon have want su...  not_safe\n",
      "9998   very easy recipe made exactly above turned per...  not_safe\n",
      "9999   very good simple heated butter then poured the...  not_safe\n",
      "10000  excellent thank wonderful recipe followed inst...  not_safe\n",
      "\n",
      "[20002 rows x 2 columns]\n"
     ]
    }
   ],
   "source": [
    "safedf = pandas.DataFrame()\n",
    "no_safedf = pandas.DataFrame()\n",
    "messages = pandas.read_csv('./safe_recipe.csv', sep=',', quoting=csv.QUOTE_NONE,\n",
    "                           names=[\"date\", \"rating\", \"review\"])\n",
    "safedf['review'] = messages[messages.columns[2:4]] \n",
    "safedf['label'] = \"safe\"\n",
    "safedf = shuffle(safedf).reset_index(drop=True)\n",
    "\n",
    "messages = pandas.read_csv('./no_safe_recipe.csv', sep=',', quoting=csv.QUOTE_NONE,\n",
    "                           names=[\"date\", \"rating\", \"review\"])\n",
    "no_safedf['review'] = messages[messages.columns[2:4]] \n",
    "no_safedf['label'] = \"not_safe\"\n",
    "\n",
    "dataset = safedf.loc[0:10000,:]\n",
    "dataset = dataset.append(no_safedf.loc[0:10000,:])\n",
    "print len(dataset)\n",
    "dataset['review'] = dataset['review'].map(clean)\n",
    "print dataset\n"
   ]
  },
  {
   "cell_type": "code",
   "execution_count": 50,
   "metadata": {},
   "outputs": [
    {
     "name": "stdout",
     "output_type": "stream",
     "text": [
      "                                              review label\n",
      "0  recipe awsome butterscotch pudding instead cup...  safe\n",
      "1  super recipe kids love right even better next ...  safe\n",
      "2  looking tasty lowerfat honey mustard chicken r...  safe\n",
      "3  great definitly need bigger make sure spagetti...  safe\n",
      "4  these really good whole disappeared last night...  safe\n"
     ]
    }
   ],
   "source": [
    "dataset.replace('', np.nan, inplace=True)\n",
    "dataset.dropna(subset=['review'], inplace=True)\n",
    "dataset['review'] = dataset['review'].map(clean_pos)\n",
    "print dataset.head()\n"
   ]
  },
  {
   "cell_type": "code",
   "execution_count": 51,
   "metadata": {},
   "outputs": [
    {
     "data": {
      "text/html": [
       "<div>\n",
       "<style>\n",
       "    .dataframe thead tr:only-child th {\n",
       "        text-align: right;\n",
       "    }\n",
       "\n",
       "    .dataframe thead th {\n",
       "        text-align: left;\n",
       "    }\n",
       "\n",
       "    .dataframe tbody tr th {\n",
       "        vertical-align: top;\n",
       "    }\n",
       "</style>\n",
       "<table border=\"1\" class=\"dataframe\">\n",
       "  <thead>\n",
       "    <tr>\n",
       "      <th></th>\n",
       "      <th colspan=\"4\" halign=\"left\">review</th>\n",
       "    </tr>\n",
       "    <tr>\n",
       "      <th></th>\n",
       "      <th>count</th>\n",
       "      <th>unique</th>\n",
       "      <th>top</th>\n",
       "      <th>freq</th>\n",
       "    </tr>\n",
       "    <tr>\n",
       "      <th>label</th>\n",
       "      <th></th>\n",
       "      <th></th>\n",
       "      <th></th>\n",
       "      <th></th>\n",
       "    </tr>\n",
       "  </thead>\n",
       "  <tbody>\n",
       "    <tr>\n",
       "      <th>not_safe</th>\n",
       "      <td>9497</td>\n",
       "      <td>8623</td>\n",
       "      <td>fantastic</td>\n",
       "      <td>14</td>\n",
       "    </tr>\n",
       "    <tr>\n",
       "      <th>safe</th>\n",
       "      <td>9547</td>\n",
       "      <td>9222</td>\n",
       "      <td>delicious</td>\n",
       "      <td>22</td>\n",
       "    </tr>\n",
       "  </tbody>\n",
       "</table>\n",
       "</div>"
      ],
      "text/plain": [
       "         review                       \n",
       "          count unique        top freq\n",
       "label                                 \n",
       "not_safe   9497   8623  fantastic   14\n",
       "safe       9547   9222  delicious   22"
      ]
     },
     "execution_count": 51,
     "metadata": {},
     "output_type": "execute_result"
    }
   ],
   "source": [
    "dataset.groupby('label').describe()"
   ]
  },
  {
   "cell_type": "code",
   "execution_count": 52,
   "metadata": {},
   "outputs": [
    {
     "name": "stdout",
     "output_type": "stream",
     "text": [
      "                                              review label  length\n",
      "0  recipe awsome butterscotch pudding instead cup...  safe     133\n",
      "1  super recipe kids love right even better next ...  safe      58\n",
      "2  looking tasty lowerfat honey mustard chicken r...  safe     123\n",
      "3  great definitly need bigger make sure spagetti...  safe      65\n",
      "4  these really good whole disappeared last night...  safe     125\n"
     ]
    }
   ],
   "source": [
    "dataset['length'] = dataset['review'].map(lambda text: len(text))\n",
    "print dataset.head()"
   ]
  },
  {
   "cell_type": "code",
   "execution_count": 53,
   "metadata": {},
   "outputs": [
    {
     "data": {
      "text/plain": [
       "<matplotlib.axes._subplots.AxesSubplot at 0x10e6a51d0>"
      ]
     },
     "execution_count": 53,
     "metadata": {},
     "output_type": "execute_result"
    },
    {
     "data": {
      "image/png": "[encoded data removed]",
      "text/plain": [
       "<matplotlib.figure.Figure at 0x11855a2d0>"
      ]
     },
     "metadata": {},
     "output_type": "display_data"
    }
   ],
   "source": [
    "dataset.length.plot(bins=20, kind='hist', figsize=(16, 8))"
   ]
  },
  {
   "cell_type": "code",
   "execution_count": 54,
   "metadata": {},
   "outputs": [
    {
     "data": {
      "text/plain": [
       "count    19044.000000\n",
       "mean        87.483197\n",
       "std         35.882001\n",
       "min          0.000000\n",
       "25%         60.000000\n",
       "50%         98.000000\n",
       "75%        116.000000\n",
       "max        168.000000\n",
       "Name: length, dtype: float64"
      ]
     },
     "execution_count": 54,
     "metadata": {},
     "output_type": "execute_result"
    }
   ],
   "source": [
    "dataset.length.describe()"
   ]
  },
  {
   "cell_type": "code",
   "execution_count": 55,
   "metadata": {},
   "outputs": [
    {
     "data": {
      "text/plain": [
       "array([<matplotlib.axes._subplots.AxesSubplot object at 0x1133e1150>,\n",
       "       <matplotlib.axes._subplots.AxesSubplot object at 0x10ff9de50>], dtype=object)"
      ]
     },
     "execution_count": 55,
     "metadata": {},
     "output_type": "execute_result"
    },
    {
     "data": {
      "image/png": "[encoded data removed]",
      "text/plain": [
       "<matplotlib.figure.Figure at 0x113409d50>"
      ]
     },
     "metadata": {},
     "output_type": "display_data"
    }
   ],
   "source": [
    "dataset.hist(column='length', by='label', bins=50, figsize=(16, 8))"
   ]
  },
  {
   "cell_type": "code",
   "execution_count": 56,
   "metadata": {
    "collapsed": true
   },
   "outputs": [],
   "source": [
    "def split_into_lemmas(message):\n",
    "    words = TextBlob(message).words\n",
    "    # for each word, take its \"base form\" = lemma \n",
    "    return [word.lemma for word in words]"
   ]
  },
  {
   "cell_type": "code",
   "execution_count": 57,
   "metadata": {
    "collapsed": true
   },
   "outputs": [],
   "source": [
    "# not appropriate data, need training and test set\n",
    "dataset = shuffle(dataset)"
   ]
  },
  {
   "cell_type": "code",
   "execution_count": 58,
   "metadata": {},
   "outputs": [
    {
     "name": "stdout",
     "output_type": "stream",
     "text": [
      "15235 3809 19044\n"
     ]
    }
   ],
   "source": [
    "msg_train, msg_test, label_train, label_test = \\\n",
    "    train_test_split(dataset['review'], dataset['label'], test_size=0.2)\n",
    "\n",
    "print len(msg_train), len(msg_test), len(msg_train) + len(msg_test)"
   ]
  },
  {
   "cell_type": "code",
   "execution_count": 59,
   "metadata": {
    "collapsed": true
   },
   "outputs": [],
   "source": [
    "pipeline = Pipeline([\n",
    "    ('bow', CountVectorizer(analyzer=split_into_lemmas)),  # strings to token integer counts\n",
    "    ('tfidf', TfidfTransformer()),  # integer counts to weighted TF-IDF scores\n",
    "    ('classifier', MultinomialNB()),  # train on TF-IDF vectors w/ Naive Bayes classifier\n",
    "])"
   ]
  },
  {
   "cell_type": "code",
   "execution_count": 60,
   "metadata": {},
   "outputs": [
    {
     "name": "stdout",
     "output_type": "stream",
     "text": [
      "[ 0.85180328  0.85104987  0.82939633  0.84120735  0.84766907  0.84832567\n",
      "  0.83913329  0.82862771  0.84438608  0.86145765]\n"
     ]
    }
   ],
   "source": [
    "# Cross-validation is a technique for evaluating ML models by training several \n",
    "# ML models on subsets of the available input data and\n",
    "# evaluating them on the complementary subset of the data\n",
    "scores = cross_val_score(pipeline,  # steps to convert raw messages into models\n",
    "                         msg_train,  # training data\n",
    "                         label_train,  # training labels\n",
    "                         cv=10,  # split data randomly into 10 parts: 9 for training, 1 for scoring\n",
    "                         scoring='accuracy',  # which scoring metric?\n",
    "                         n_jobs=-1,  # -1 = use all cores = faster\n",
    "                         )\n",
    "print scores"
   ]
  },
  {
   "cell_type": "code",
   "execution_count": 61,
   "metadata": {},
   "outputs": [
    {
     "name": "stdout",
     "output_type": "stream",
     "text": [
      "0.844305629672 0.00963228047582\n"
     ]
    }
   ],
   "source": [
    "print scores.mean(), scores.std()"
   ]
  },
  {
   "cell_type": "code",
   "execution_count": 62,
   "metadata": {},
   "outputs": [
    {
     "name": "stdout",
     "output_type": "stream",
     "text": [
      "CPU times: user 9.44 s, sys: 447 ms, total: 9.89 s\n",
      "Wall time: 53.3 s\n"
     ]
    }
   ],
   "source": [
    "params = {\n",
    "    'tfidf__use_idf': (True, False),\n",
    "    'bow__analyzer': (split_into_lemmas,),\n",
    "}\n",
    "\n",
    "grid = GridSearchCV(\n",
    "    pipeline,  # pipeline from above\n",
    "    params,  # parameters to tune via cross validation\n",
    "    refit=True,  # fit using all available data at the end, on the best found param combination\n",
    "    n_jobs=-1,  # number of cores to use for parallelization; -1 for \"all cores\"\n",
    "    scoring='accuracy',  # what score are we optimizing?\n",
    "    cv=StratifiedKFold(label_train, n_folds=5),  # what type of cross validation to use\n",
    ")\n",
    "%time nb_detector = grid.fit(msg_train, label_train)"
   ]
  },
  {
   "cell_type": "code",
   "execution_count": 63,
   "metadata": {},
   "outputs": [
    {
     "name": "stdout",
     "output_type": "stream",
     "text": [
      "[   0 3838 3839 ..., 4117 4142 5605]\n",
      "delicious used very good loved these great made make recipe\n",
      "a lackluster lactaid ladle ladlefull ladling ladyfinger laguna laid lake\n"
     ]
    }
   ],
   "source": [
    "def print_top10(vectorizer, clf):\n",
    "    \"\"\"Prints features with the highest coefficient values, per class\"\"\"\n",
    "    feature_names = vectorizer.get_feature_names()\n",
    "    #for i, class_label in enumerate(class_labels):\n",
    "    print np.argsort(clf.coef_[0])\n",
    "    top10 = np.argsort(clf.coef_[0])[-10:]\n",
    "    bot10 = np.argsort(clf.coef_[0])[0:10]\n",
    "    print(\"%s\" % (\" \".join(feature_names[j] for j in top10)))\n",
    "    print(\"%s\" % (\" \".join(feature_names[j] for j in bot10)))\n",
    "\n",
    "\n",
    "#print nb_detector.grid_scores_\n",
    "best =nb_detector.best_estimator_\n",
    "print_top10(best.named_steps['bow'], best.named_steps['classifier'])"
   ]
  },
  {
   "cell_type": "code",
   "execution_count": 64,
   "metadata": {
    "collapsed": true
   },
   "outputs": [],
   "source": [
    "predictions = nb_detector.predict(msg_test)\n",
    "prob = nb_detector.predict_proba(msg_test)"
   ]
  },
  {
   "cell_type": "code",
   "execution_count": 65,
   "metadata": {},
   "outputs": [
    {
     "name": "stdout",
     "output_type": "stream",
     "text": [
      "['not_safe' 'not_safe' 'not_safe' ..., 'safe' 'not_safe' 'safe']\n",
      "[[ 0.7386711   0.2613289 ]\n",
      " [ 0.85728248  0.14271752]\n",
      " [ 0.60028873  0.39971127]\n",
      " ..., \n",
      " [ 0.19761653  0.80238347]\n",
      " [ 0.71975231  0.28024769]\n",
      " [ 0.22959779  0.77040221]]\n"
     ]
    },
    {
     "data": {
      "image/png": "[encoded data removed]",
      "text/plain": [
       "<matplotlib.figure.Figure at 0x10f90eb50>"
      ]
     },
     "metadata": {},
     "output_type": "display_data"
    }
   ],
   "source": [
    "print predictions\n",
    "print prob\n",
    "ytest = [1 if x == \"safe\" else 0 for x in label_test ]\n",
    "fpr, tpr, _ = roc_curve(ytest, prob[:,1])\n",
    "roc_auc = auc(fpr, tpr)\n",
    "\n",
    "plt.figure(figsize=(18,10))\n",
    "plt.title('Receiver Operating Characteristic')\n",
    "plt.plot(fpr, tpr, 'b', label = 'AUC = %0.2f' % roc_auc)\n",
    "plt.legend(loc = 'lower right')\n",
    "plt.plot([0, 1], [0, 1],'r--')\n",
    "plt.xlim([0, 1])\n",
    "plt.ylim([0, 1])\n",
    "\n",
    "plt.ylabel('True Positive Rate')\n",
    "plt.xlabel('False Positive Rate')\n",
    "plt.show()\n"
   ]
  },
  {
   "cell_type": "code",
   "execution_count": 66,
   "metadata": {},
   "outputs": [
    {
     "name": "stdout",
     "output_type": "stream",
     "text": [
      "[[1647  269]\n",
      " [ 287 1606]]\n"
     ]
    },
    {
     "data": {
      "image/png": "[encoded data removed]",
      "text/plain": [
       "<matplotlib.figure.Figure at 0x117627f90>"
      ]
     },
     "metadata": {},
     "output_type": "display_data"
    }
   ],
   "source": [
    "labels=[\"safe\", \"not_safe\"]\n",
    "cm = confusion_matrix(label_test, predictions, labels)\n",
    "print cm\n",
    "fig = plt.figure(figsize=(18,10))\n",
    "ax = fig.add_subplot(111)\n",
    "cax = ax.matshow(cm)\n",
    "pl.title('Confusion matrix of the classifier')\n",
    "fig.colorbar(cax)\n",
    "ax.set_xticklabels([''] + labels)\n",
    "ax.set_yticklabels([''] + labels)\n",
    "pl.xlabel('Predicted')\n",
    "pl.ylabel('Expected')\n",
    "pl.show()"
   ]
  },
  {
   "cell_type": "code",
   "execution_count": 67,
   "metadata": {},
   "outputs": [
    {
     "name": "stdout",
     "output_type": "stream",
     "text": [
      "             precision    recall  f1-score   support\n",
      "\n",
      "   not_safe       0.86      0.85      0.85      1893\n",
      "       safe       0.85      0.86      0.86      1916\n",
      "\n",
      "avg / total       0.85      0.85      0.85      3809\n",
      "\n"
     ]
    }
   ],
   "source": [
    "print classification_report(label_test, predictions)"
   ]
  }
 ],
 "metadata": {
  "kernelspec": {
   "display_name": "Python 2",
   "language": "python",
   "name": "python2"
  },
  "language_info": {
   "codemirror_mode": {
    "name": "ipython",
    "version": 2
   },
   "file_extension": ".py",
   "mimetype": "text/x-python",
   "name": "python",
   "nbconvert_exporter": "python",
   "pygments_lexer": "ipython2",
   "version": "2.7.10"
  }
 },
 "nbformat": 4,
 "nbformat_minor": 2
}
